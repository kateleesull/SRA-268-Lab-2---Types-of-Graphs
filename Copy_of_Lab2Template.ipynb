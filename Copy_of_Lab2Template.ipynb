{
  "nbformat": 4,
  "nbformat_minor": 0,
  "metadata": {
    "colab": {
      "name": "Copy of Lab2Template.ipynb",
      "provenance": [],
      "include_colab_link": true
    },
    "kernelspec": {
      "name": "python3",
      "display_name": "Python 3"
    }
  },
  "cells": [
    {
      "cell_type": "markdown",
      "metadata": {
        "id": "view-in-github",
        "colab_type": "text"
      },
      "source": [
        "<a href=\"https://colab.research.google.com/github/kateleesull/SRA-268-Lab-2---Types-of-Graphs/blob/master/Copy_of_Lab2Template.ipynb\" target=\"_parent\"><img src=\"https://colab.research.google.com/assets/colab-badge.svg\" alt=\"Open In Colab\"/></a>"
      ]
    },
    {
      "cell_type": "markdown",
      "metadata": {
        "id": "6sOc4Uyr4U-Z",
        "colab_type": "text"
      },
      "source": [
        "## Graph Types"
      ]
    },
    {
      "cell_type": "markdown",
      "metadata": {
        "id": "0zZdVLAd5CYr",
        "colab_type": "text"
      },
      "source": [
        "Creator\n",
        "* Kate Sullivan"
      ]
    },
    {
      "cell_type": "markdown",
      "metadata": {
        "id": "g-r6Clq45Hn4",
        "colab_type": "text"
      },
      "source": [
        "### Deviation\n"
      ]
    },
    {
      "cell_type": "markdown",
      "metadata": {
        "id": "epqMuBXHc351",
        "colab_type": "text"
      },
      "source": [
        "![alt text](https://raw.githubusercontent.com/kateleesull/SRA-268-Lab-2---Types-of-Graphs/master/Butterfly%20-%20Deviation.png)"
      ]
    },
    {
      "cell_type": "markdown",
      "metadata": {
        "id": "w6bZ_NEi7E3w",
        "colab_type": "text"
      },
      "source": [
        "#### What is this telling us?"
      ]
    },
    {
      "cell_type": "markdown",
      "metadata": {
        "id": "95L-spaC7QHF",
        "colab_type": "text"
      },
      "source": [
        "This graph indicates and emphasizes the variation between two variables - in this case, the average number of points scored by winning teams and the average number of points scored by losing teams based on academic year. This butterfly chart allows us to see the shape each set of data takes and determine trends in data while making comparisons between the two. Though the scale on this graph makes it a little complicated to interpret, it is still possible to make conclusions about the point margin by which teams win, and how they seem to be relatively stable throughout the majority of academic years."
      ]
    },
    {
      "cell_type": "markdown",
      "metadata": {
        "id": "YgXyXjmz7cDP",
        "colab_type": "text"
      },
      "source": [
        "### Correlation\n"
      ]
    },
    {
      "cell_type": "markdown",
      "metadata": {
        "id": "SGx15rZq7hvt",
        "colab_type": "text"
      },
      "source": [
        "![alt text](https://raw.githubusercontent.com/kateleesull/SRA-268-Lab-2---Types-of-Graphs/master/Scatterplot%20-%20Correlation.png)"
      ]
    },
    {
      "cell_type": "markdown",
      "metadata": {
        "id": "dljjONNi7jmj",
        "colab_type": "text"
      },
      "source": [
        "#### What is this telling us?"
      ]
    },
    {
      "cell_type": "markdown",
      "metadata": {
        "id": "PwZEZrFB7laG",
        "colab_type": "text"
      },
      "source": [
        "This graph shows the relationship between the amount of points a winning team ended with versus the amount of points the losing team had. I decided to use a scatterplot because both data sets were numerical and discrete. While the correlation is expectedly positive (of course the winning teams would score more points than the losing teams), the strength of the positive correlation is definitely a factor of interest. It also demonstrates the variance between the number of points a team typically wins by. This graph shows that teams often win by a very slight margin, though there are still a few outliers who win by a significantly large number of points."
      ]
    },
    {
      "cell_type": "markdown",
      "metadata": {
        "id": "MqUdI-uL7r2s",
        "colab_type": "text"
      },
      "source": [
        "### Ranking\n"
      ]
    },
    {
      "cell_type": "markdown",
      "metadata": {
        "id": "AvlxCOVt7x9F",
        "colab_type": "text"
      },
      "source": [
        "![alt text](https://raw.githubusercontent.com/kateleesull/SRA-268-Lab-2---Types-of-Graphs/master/Ranking%20-%20Ordered%20Horizontal%20Bar%20Chart.png)"
      ]
    },
    {
      "cell_type": "markdown",
      "metadata": {
        "id": "lCAYtfza7yTq",
        "colab_type": "text"
      },
      "source": [
        "#### What is this telling us?"
      ]
    },
    {
      "cell_type": "markdown",
      "metadata": {
        "id": "MyuciD277ygU",
        "colab_type": "text"
      },
      "source": [
        "This chart ranks the total number of points winning teams won based on the taxonomical order of their mascots. From this, we can see a clear majority of winning team points being earned by the \"Carnivora\" order, followed most closely by the \"Primates\" order - though they only earned half the amount of points as the \"Carnivora\" order, while the orders \"Cuculiformes\" and \"Serpentes\" have comparatively very few. This is likely because the majority of mascots to begin with are a part of the \"Carnivora\" order. The ordered bar chart clearly delineates rankings more than a typical bar chart can, as well as allowing the audience to easily see the margins by which one category overtakes another. "
      ]
    },
    {
      "cell_type": "markdown",
      "metadata": {
        "id": "dGDGl8-G7y8Y",
        "colab_type": "text"
      },
      "source": [
        "### Distribution\n"
      ]
    },
    {
      "cell_type": "markdown",
      "metadata": {
        "id": "FB0uV-jy76p9",
        "colab_type": "text"
      },
      "source": [
        "![alt text](https://raw.githubusercontent.com/kateleesull/SRA-268-Lab-2---Types-of-Graphs/master/Distribution%20-%20Histogram.png)"
      ]
    },
    {
      "cell_type": "markdown",
      "metadata": {
        "id": "_6SOzhrQ76zH",
        "colab_type": "text"
      },
      "source": [
        "#### What is this telling us?"
      ]
    },
    {
      "cell_type": "markdown",
      "metadata": {
        "id": "HBWqsS_g767h",
        "colab_type": "text"
      },
      "source": [
        "This graph shows the distribution of points that the losing teams won in each game, and is useful in identifying attributes of the data such as the median, mode, range, and variance in the data. This histogram is for the most part a fairly symmetrical bell curve, and the distribution is quite clearly centered around the 60-65 point bin. From this histogram we can also tell that the range of the points won by losing teams in a single game is fairly large, though the two extreme sides of the graph only indicate point amounts for a select few games.\n"
      ]
    },
    {
      "cell_type": "markdown",
      "metadata": {
        "id": "wQsDThk677Fy",
        "colab_type": "text"
      },
      "source": [
        "### Change over Time\n"
      ]
    },
    {
      "cell_type": "markdown",
      "metadata": {
        "id": "Z1j_YLOA7_OK",
        "colab_type": "text"
      },
      "source": [
        "![alt text](https://raw.githubusercontent.com/kateleesull/SRA-268-Lab-2---Types-of-Graphs/master/Column%20-%20Change%20Over%20Time.png)"
      ]
    },
    {
      "cell_type": "markdown",
      "metadata": {
        "id": "mpfsmmgi7_Vj",
        "colab_type": "text"
      },
      "source": [
        "#### What is this telling us?"
      ]
    },
    {
      "cell_type": "markdown",
      "metadata": {
        "id": "rYLXoMMO7_di",
        "colab_type": "text"
      },
      "source": [
        "This graph shows how the number of overtime games changes over the period of academic years starting with 1984 and continuing through 2016. I chose a classic vertical column bar chart as it clearly delineates the variance in data as time progresses. There is no clear trend in the data, possibly because the sample of years we have access to is not large enough, however it still represents the notable peaks and valleys in the data substantially. For example, we can see much more significant variance in the data after 1994, whereas before then the number of overtime games throughout the years was very similar."
      ]
    },
    {
      "cell_type": "markdown",
      "metadata": {
        "id": "lFwiHoE-7_jZ",
        "colab_type": "text"
      },
      "source": [
        "### Magnitude\n"
      ]
    },
    {
      "cell_type": "markdown",
      "metadata": {
        "id": "ICQFnXj78EbF",
        "colab_type": "text"
      },
      "source": [
        "![alt text](https://raw.githubusercontent.com/kateleesull/SRA-268-Lab-2---Types-of-Graphs/master/Magnitude%20-%20Paired%20Bar.png)"
      ]
    },
    {
      "cell_type": "markdown",
      "metadata": {
        "id": "QGG7XYG88Eii",
        "colab_type": "text"
      },
      "source": [
        "#### What is this telling us?"
      ]
    },
    {
      "cell_type": "markdown",
      "metadata": {
        "id": "VS7uGa0l8Eos",
        "colab_type": "text"
      },
      "source": [
        "This chart shows the comparison between the total number of points won by winning teams and the total number of points won by losing teams based on the day of the week. The paired column chart emphasizes the difference between total points won on Thursday, Friday, Saturday, and Sunday (which have comparatively more points total) and Monday, Tuesday, and Wednesday (which have comparatively fewer points), while also allowing us to compare the number of points scored by both losing teams and winning teams. From this chart, we can now tell that the margin between points scored by winning teams and losing teams seems to be much smaller on Sundays, Mondays, Tuesdays, and Wednesdays."
      ]
    },
    {
      "cell_type": "markdown",
      "metadata": {
        "id": "bEKFxP8R8Evk",
        "colab_type": "text"
      },
      "source": [
        "### Part-to-Whole\n"
      ]
    },
    {
      "cell_type": "markdown",
      "metadata": {
        "id": "WFHlcYKV8E35",
        "colab_type": "text"
      },
      "source": [
        "![alt text](https://raw.githubusercontent.com/kateleesull/SRA-268-Lab-2---Types-of-Graphs/master/Treemap%20-%20Part%20to%20Whole.png)"
      ]
    },
    {
      "cell_type": "markdown",
      "metadata": {
        "id": "PNSd3wlp8UZH",
        "colab_type": "text"
      },
      "source": [
        "#### What is this telling us?"
      ]
    },
    {
      "cell_type": "markdown",
      "metadata": {
        "id": "y9tb_QRA8aqt",
        "colab_type": "text"
      },
      "source": [
        "This graph shows the relationship between the total number of points scored by winning teams and the day of the week. Both the Thursday and Friday blocks have a fairly equal number of points scored by winning teams between them, followed by Saturday and Sunday. Monday, Tuesday, and Wednesday have a significantly smaller number of points by winning teams scored on them, most likely due to the fact that fewer games are typically played on those days. The treemap representation is a clear and concise way to highlight and emphasize the differences between the days, without being too complicated to understand (as there are not an overabundance of categorical variables)."
      ]
    }
  ]
}